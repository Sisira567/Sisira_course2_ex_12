{
 "cells": [
  {
   "cell_type": "markdown",
   "id": "e1362992-75ee-47c3-8e33-fbac365d9dde",
   "metadata": {},
   "source": [
    "# Data Science Tools and Ecosystem"
   ]
  },
  {
   "cell_type": "markdown",
   "id": "705caae9-fd87-4564-bf51-26f708420f1e",
   "metadata": {},
   "source": [
    "In this notebook, Data Science Tools and Ecosystem are summarized."
   ]
  },
  {
   "cell_type": "markdown",
   "id": "80d98b48-9714-41f1-9052-0bd1633530fb",
   "metadata": {},
   "source": [
    "list data science languages"
   ]
  },
  {
   "cell_type": "markdown",
   "id": "3f482725-2797-42f0-a163-e054cf24b779",
   "metadata": {},
   "source": [
    "Some of the popular languages that Data Scientists use are:"
   ]
  },
  {
   "cell_type": "markdown",
   "id": "738affdc-871d-4347-9f07-181a0e151700",
   "metadata": {},
   "source": [
    "1. Python\n",
    "2. R\n",
    "3. SQL"
   ]
  },
  {
   "cell_type": "markdown",
   "id": "f37c1b75-de2a-4200-8c68-4b479bb78b50",
   "metadata": {},
   "source": [
    "list data science libraries"
   ]
  },
  {
   "cell_type": "markdown",
   "id": "db11f553-2a7e-4bdb-a924-1e5e1907b51e",
   "metadata": {},
   "source": [
    "Some of the commonly used libraries used by Data Scientists include:"
   ]
  },
  {
   "cell_type": "markdown",
   "id": "23013062-1d0a-4c95-8cac-780f1e745412",
   "metadata": {},
   "source": [
    "1. NumPy\n",
    "2. matplotlib\n",
    "3. Seaborn"
   ]
  },
  {
   "cell_type": "markdown",
   "id": "0bd8881a-0391-4b03-9537-281bddc5a8f4",
   "metadata": {},
   "source": [
    "Data Science tools"
   ]
  },
  {
   "cell_type": "markdown",
   "id": "f193bbeb-fca1-494a-b8e2-b7ab71ac6045",
   "metadata": {},
   "source": [
    "| Data Science Tools |\n",
    "| ------------------ |\n",
    "|Jupyter|\n",
    "|R studio |\n",
    "|VS Code |"
   ]
  },
  {
   "cell_type": "markdown",
   "id": "7b605ddb-155e-4c7a-bde4-541024b23ffa",
   "metadata": {},
   "source": [
    "arithmetic expression examples"
   ]
  },
  {
   "cell_type": "markdown",
   "id": "d5911c58-d828-468a-958e-d3cf1672adb7",
   "metadata": {},
   "source": [
    "### Below are a few examples of evaluating arithmetic expressions in Python"
   ]
  },
  {
   "cell_type": "code",
   "execution_count": 32,
   "id": "1f6f9382-6070-4397-8756-f619f4da34f4",
   "metadata": {},
   "outputs": [
    {
     "data": {
      "text/plain": [
       "17"
      ]
     },
     "execution_count": 32,
     "metadata": {},
     "output_type": "execute_result"
    }
   ],
   "source": [
    "# This a simple arithmetic expression to mutiply then add integers\n",
    "(3*4)+5"
   ]
  },
  {
   "cell_type": "code",
   "execution_count": 34,
   "id": "f0e876a8-8cf4-4791-8d9b-1741334bd617",
   "metadata": {},
   "outputs": [
    {
     "data": {
      "text/plain": [
       "3.3333333333333335"
      ]
     },
     "execution_count": 34,
     "metadata": {},
     "output_type": "execute_result"
    }
   ],
   "source": [
    "# This will convert 200 minutes to hours by diving by 60\n",
    "200/60"
   ]
  },
  {
   "cell_type": "markdown",
   "id": "ed4c66dd-8c7f-4a8f-b39a-e0f07bfd672f",
   "metadata": {},
   "source": [
    "In this notebook, Data Science Tools and Ecosystem are summarized"
   ]
  },
  {
   "cell_type": "markdown",
   "id": "3236a1c1-a2c7-4122-9f42-82c723d24cd9",
   "metadata": {},
   "source": [
    "**Objectives:** "
   ]
  },
  {
   "cell_type": "markdown",
   "id": "9724d5bf-86da-4896-8ba8-b19ce7f30f9d",
   "metadata": {},
   "source": [
    "- List popular languages for Data Science\n",
    "- overview of the data science tools \n",
    "- libraries, APIs, Datasets, and Data models \n",
    "- Jupyter Project"
   ]
  },
  {
   "cell_type": "markdown",
   "id": "29733b02-7195-4c23-a9cb-f2196b5f56fa",
   "metadata": {},
   "source": [
    "## Author\n",
    "name"
   ]
  },
  {
   "cell_type": "code",
   "execution_count": null,
   "id": "acbda1f3-ee3a-44ce-8c0b-4f97a94d8cdb",
   "metadata": {},
   "outputs": [],
   "source": []
  }
 ],
 "metadata": {
  "kernelspec": {
   "display_name": "Python 3 (ipykernel)",
   "language": "python",
   "name": "python3"
  },
  "language_info": {
   "codemirror_mode": {
    "name": "ipython",
    "version": 3
   },
   "file_extension": ".py",
   "mimetype": "text/x-python",
   "name": "python",
   "nbconvert_exporter": "python",
   "pygments_lexer": "ipython3",
   "version": "3.12.8"
  }
 },
 "nbformat": 4,
 "nbformat_minor": 5
}
